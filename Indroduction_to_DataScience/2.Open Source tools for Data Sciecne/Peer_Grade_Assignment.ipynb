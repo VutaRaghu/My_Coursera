{
 "cells": [
  {
   "cell_type": "markdown",
   "metadata": {},
   "source": [
    "# My Jupyter Notebook on IBM Data Science Experience"
   ]
  },
  {
   "cell_type": "markdown",
   "metadata": {},
   "source": [
    "**VUTA RAGHU VEERA PHANI SHANKAR**  \n",
    "DATA SCIENTIST"
   ]
  },
  {
   "cell_type": "markdown",
   "metadata": {},
   "source": [
    "*I am interested in data science because i am passinate to work in thhis domain. I feel very comfortable and enjoying while working in data science domain*"
   ]
  },
  {
   "cell_type": "markdown",
   "metadata": {},
   "source": [
    "### BELOW CODE REFERS TO ADDITION OF TWO NUMBERS"
   ]
  },
  {
   "cell_type": "code",
   "execution_count": 3,
   "metadata": {},
   "outputs": [
    {
     "name": "stdout",
     "output_type": "stream",
     "text": [
      "3\n"
     ]
    }
   ],
   "source": [
    "a=1\n",
    "b=2\n",
    "c=a+b\n",
    "print(c)"
   ]
  },
  {
   "cell_type": "markdown",
   "metadata": {},
   "source": [
    "* DATA SCIENCE\n",
    "* DATA ANALYSIS\n",
    "* DATA PROCESSING\n",
    "\n",
    "<dl>\n",
    "<dt>STEPS IN LEARNING DATA SCIENCE</dt>\n",
    "<dd>1. DATA ANALYSIS.</dd>\n",
    "<dd>2. MACHINE LERANING TECHINIQUES.</dd>\n",
    "</dl>\n",
    "\n",
    "~~Strikethrough~~\n",
    "\n",
    "\n",
    "> DATA SCIENCE IS MY DOMAIN OF WORK\n",
    "\n",
    "| NAMES         | MARKS  |\n",
    "| ------------- |:------:|\n",
    "| RAJESH        | 90     |\n",
    "| SUDHIR        | 85     |\n",
    "| ASHOK         | 80     |\n",
    "\n",
    "<a href=\"https://www.youtube.com/watch?v=-Lazy3r6FKk\n",
    "\" target=\"_blank\"><img src=\"https://www.houseofbots.com/images/news/4315/cover.png\" \n",
    "alt=\"IMAGE ALT TEXT HERE\" width=\"240\" height=\"180\" border=\"10\" /></a>"
   ]
  }
 ],
 "metadata": {
  "kernelspec": {
   "display_name": "Python",
   "language": "python",
   "name": "conda-env-python-py"
  },
  "language_info": {
   "codemirror_mode": {
    "name": "ipython",
    "version": 3
   },
   "file_extension": ".py",
   "mimetype": "text/x-python",
   "name": "python",
   "nbconvert_exporter": "python",
   "pygments_lexer": "ipython3",
   "version": "3.6.10"
  }
 },
 "nbformat": 4,
 "nbformat_minor": 4
}
